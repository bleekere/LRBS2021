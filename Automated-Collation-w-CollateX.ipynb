{
 "cells": [
  {
   "cell_type": "markdown",
   "metadata": {},
   "source": [
    "# Introduction\n",
    "\n",
    "In this Jupyter notebook, you'll learn how to work with the automated text collation tool CollateX. Before you start, make sure you've seen at least the third video lecture on the Gothenburg model. Also, make sure you understand the principles of the Jupyter notebook. This is explained in more detail in the lecture notes of [session 5.2.](https://port.sas.ac.uk/course/view.php?id=190&section=6) of the LRBS course, and – if you would like to learn even more – you can read about it [here](https://jupyter.org/) and [here](https://nbviewer.jupyter.org/github/DiXiT-eu/collatex-tutorial/blob/master/unit1/Jupyter_notebook.ipynb).\n",
    "\n",
    "Please note: run the code cells in this notebook in the right order. For example, you first need to tell Python that you need the Python library that holds the code for CollateX, by running the code cell `from collatex import*`, before you can start running the other cells. You can recognize a code cell by the `In [x]` on the left side of the cell.\n",
    "\n",
    "How to run a cell? It's simple: either click on the cell (so that your cursor is in the cell). Hold shift and press enter, or click on `Run` in the menu bar."
   ]
  },
  {
   "cell_type": "markdown",
   "metadata": {},
   "source": [
    "### Before you proceed\n",
    "\n",
    "You'd want to start afresh, so make sure that the cells in this notebook do not already have any output. You can do so by selecting `Kernel >> Restart & Clear Output`  in the menu bar above. You'll be asked whether you're sure; after confirming this your notebook will restart."
   ]
  },
  {
   "cell_type": "markdown",
   "metadata": {},
   "source": [
    "## Set-up"
   ]
  },
  {
   "cell_type": "markdown",
   "metadata": {},
   "source": [
    "First, let's set up our working environment. Normally, when not working in a binder environment, you'd check whether you have the latest version of CollateX installed:"
   ]
  },
  {
   "cell_type": "code",
   "execution_count": 1,
   "metadata": {},
   "outputs": [
    {
     "name": "stdout",
     "output_type": "stream",
     "text": [
      "Defaulting to user installation because normal site-packages is not writeable\n",
      "Requirement already satisfied: collatex in /Users/ellibleeker/Library/Python/3.8/lib/python/site-packages (2.2)\n",
      "Requirement already satisfied: prettytable in /Users/ellibleeker/Library/Python/3.8/lib/python/site-packages (from collatex) (2.1.0)\n",
      "Requirement already satisfied: networkx in /Users/ellibleeker/Library/Python/3.8/lib/python/site-packages (from collatex) (2.5.1)\n",
      "Requirement already satisfied: decorator<5,>=4.3 in /Users/ellibleeker/Library/Python/3.8/lib/python/site-packages (from networkx->collatex) (4.4.2)\n",
      "Requirement already satisfied: wcwidth in /Users/ellibleeker/Library/Python/3.8/lib/python/site-packages (from prettytable->collatex) (0.2.5)\n",
      "\u001b[33mWARNING: You are using pip version 20.3.3; however, version 21.1.2 is available.\n",
      "You should consider upgrading via the '/Library/Developer/CommandLineTools/usr/bin/python3 -m pip install --upgrade pip' command.\u001b[0m\n"
     ]
    }
   ],
   "source": [
    "!pip install --upgrade collatex"
   ]
  },
  {
   "cell_type": "markdown",
   "metadata": {},
   "source": [
    "Although this is not necessary in the present case, because the binder environment includes CollateX, it's good to make this part of your practice. You do not need to run `pip install --upgrade collatex` everytime, but make sure you do it regularly."
   ]
  },
  {
   "cell_type": "markdown",
   "metadata": {},
   "source": [
    "Secondly, you import the Python library that contains the code of CollateX by running:"
   ]
  },
  {
   "cell_type": "code",
   "execution_count": 2,
   "metadata": {},
   "outputs": [],
   "source": [
    "from collatex import*"
   ]
  },
  {
   "cell_type": "markdown",
   "metadata": {},
   "source": [
    "You will *not* get any confirmation of the import being succesfull; you only know when it hasn't worked because you'll get an error message. "
   ]
  },
  {
   "cell_type": "markdown",
   "metadata": {},
   "source": [
    "## Step 1: Create a collation object.\n",
    "\n",
    "Your first step is to create a collation object with this line of code: `c-object = Collation()`. Saying `Collation()` tells CollateX to create a new, empty Collation \"instance\". Collation is a sort of special data type, that was created especially for CollateX. The `c_object` is a variable name, this could be anything you like."
   ]
  },
  {
   "cell_type": "code",
   "execution_count": 3,
   "metadata": {},
   "outputs": [],
   "source": [
    "LRBS2021_collation = Collation()"
   ]
  },
  {
   "cell_type": "markdown",
   "metadata": {},
   "source": [
    "After running the cell, your empty collation is ready for you to add witnesses.\n",
    "\n",
    "## Step 3: Add witnesses to your collation object.\n",
    "\n",
    "Each witness gets:\n",
    "\n",
    "- a unique name (the *sigil*) to identify it. The sigil can be a single letter or a longer name.\n",
    "- the witness' text that will be collated.\n",
    "\n",
    "You add witnesses to your collation object with the function `add_plain_witness()`.\n"
   ]
  },
  {
   "cell_type": "code",
   "execution_count": 13,
   "metadata": {},
   "outputs": [
    {
     "ename": "SyntaxError",
     "evalue": "invalid syntax (<ipython-input-13-4290ddb64f7d>, line 4)",
     "output_type": "error",
     "traceback": [
      "\u001b[0;36m  File \u001b[0;32m\"<ipython-input-13-4290ddb64f7d>\"\u001b[0;36m, line \u001b[0;32m4\u001b[0m\n\u001b[0;31m    LRBS2021_collation.add_plain_witness('D4', 'The moon's shining on all things new!' )\u001b[0m\n\u001b[0m                                                         ^\u001b[0m\n\u001b[0;31mSyntaxError\u001b[0m\u001b[0;31m:\u001b[0m invalid syntax\n"
     ]
    }
   ],
   "source": [
    "LRBS2021_collation.add_plain_witness('A1', 'The sun shone, having no alternative, on the nothing new.')\n",
    "LRBS2021_collation.add_plain_witness('B2', 'The sun was shining, having no alternative, on nothing new.')\n",
    "LRBS2021_collation.add_plain_witness('C3', 'The star shone, having no other option.')\n",
    "LRBS2021_collation.add_plain_witness('D4', 'The moon's shining on all things new!' )"
   ]
  },
  {
   "cell_type": "markdown",
   "metadata": {},
   "source": [
    "## Step 4: Collate.\n",
    "\n",
    "Now it's time to collate all the witnesses you've just added. You do so with the function `collate()`.\n",
    "\n",
    "We save the result of the collation into a variable, here conveniently called `c_result`."
   ]
  },
  {
   "cell_type": "code",
   "execution_count": 5,
   "metadata": {},
   "outputs": [],
   "source": [
    "c_result = collate(LRBS2021_collation)"
   ]
  },
  {
   "cell_type": "markdown",
   "metadata": {},
   "source": [
    "What, nothing happened? This may seem so, but remember: you didn't actually ask to *see* the result. Do so now:"
   ]
  },
  {
   "cell_type": "code",
   "execution_count": 6,
   "metadata": {},
   "outputs": [
    {
     "name": "stdout",
     "output_type": "stream",
     "text": [
      "+----+-----+------+-------------+-------------+-----------------+-----+-------------+---+\n",
      "| A1 | The | sun  | shone       | , having no | alternative, on | the | nothing new | . |\n",
      "| B2 | The | sun  | was shining | , having no | alternative, on | -   | nothing new | . |\n",
      "| C3 | The | star | shone       | , having no | other option    | -   | -           | . |\n",
      "+----+-----+------+-------------+-------------+-----------------+-----+-------------+---+\n"
     ]
    }
   ],
   "source": [
    "print(c_result)"
   ]
  },
  {
   "cell_type": "markdown",
   "metadata": {},
   "source": [
    "The result is printed in CollateX' most basic visualisation of the alignment table. The first column of the table contains the sigla of the witnesses. The tokens that are aligned are placed in the same column. Note that aligned does *not* necessarily mean the tokens are also considered a match! This basic visualisation only shows the alingment of the tokens, not whether or not they match. \n",
    "\n",
    "CollateX does provide more visualisation options that provide more information. For example, you can display each token in an individual cell of the alignment table by switching off the segmentation of the tokens:"
   ]
  },
  {
   "cell_type": "code",
   "execution_count": 8,
   "metadata": {},
   "outputs": [
    {
     "name": "stdout",
     "output_type": "stream",
     "text": [
      "+----+-----+------+-------+---------+---+--------+----+-------------+--------+----+-----+---------+-----+---+\n",
      "| A1 | The | sun  | shone | -       | , | having | no | alternative | ,      | on | the | nothing | new | . |\n",
      "| B2 | The | sun  | was   | shining | , | having | no | alternative | ,      | on | -   | nothing | new | . |\n",
      "| C3 | The | star | shone | -       | , | having | no | other       | option | -  | -   | -       | -   | . |\n",
      "+----+-----+------+-------+---------+---+--------+----+-------------+--------+----+-----+---------+-----+---+\n"
     ]
    }
   ],
   "source": [
    "c_result2 = collate(LRBS2021_collation, segmentation=False)\n",
    "print(c_result2)"
   ]
  },
  {
   "cell_type": "markdown",
   "metadata": {},
   "source": [
    "You can also go with HTML representations of the alignment table. \n",
    "\n",
    "There are two options; do play around with them."
   ]
  },
  {
   "cell_type": "code",
   "execution_count": null,
   "metadata": {},
   "outputs": [],
   "source": [
    "c_result3 = collate(c_object, segmentation=False, output='html')"
   ]
  },
  {
   "cell_type": "code",
   "execution_count": null,
   "metadata": {},
   "outputs": [],
   "source": [
    "c_result4 = collate(c_object, segmentation=False, output='html2')"
   ]
  },
  {
   "cell_type": "markdown",
   "metadata": {},
   "source": [
    "Adding the parameter `output='html2'` visualises the matching and non-matching tokens in blue and red respectively."
   ]
  },
  {
   "cell_type": "markdown",
   "metadata": {},
   "source": [
    "And finally, the output of the collation can be respresented as a variant graph visualisation:"
   ]
  },
  {
   "cell_type": "code",
   "execution_count": 11,
   "metadata": {},
   "outputs": [
    {
     "data": {
      "image/svg+xml": [
       "<svg xmlns=\"http://www.w3.org/2000/svg\" xmlns:xlink=\"http://www.w3.org/1999/xlink\" width=\"2109pt\" height=\"130pt\" viewBox=\"0.00 0.00 2108.96 130.00\">\n",
       "<g id=\"graph0\" class=\"graph\" transform=\"scale(1 1) rotate(0) translate(4 126)\">\n",
       "<polygon fill=\"white\" stroke=\"transparent\" points=\"-4,4 -4,-126 2104.96,-126 2104.96,4 -4,4\"/>\n",
       "<!-- 1 -->\n",
       "<g id=\"node1\" class=\"node\">\n",
       "<title>1</title>\n",
       "<ellipse fill=\"none\" stroke=\"black\" cx=\"27\" cy=\"-45\" rx=\"27\" ry=\"18\"/>\n",
       "<text text-anchor=\"middle\" x=\"27\" y=\"-41.3\" font-family=\"Times,serif\" font-size=\"14.00\">start</text>\n",
       "</g>\n",
       "<!-- 3 -->\n",
       "<g id=\"node3\" class=\"node\">\n",
       "<title>3</title>\n",
       "<ellipse fill=\"none\" stroke=\"black\" cx=\"181\" cy=\"-45\" rx=\"27\" ry=\"18\"/>\n",
       "<text text-anchor=\"middle\" x=\"181\" y=\"-41.3\" font-family=\"Times,serif\" font-size=\"14.00\">The</text>\n",
       "</g>\n",
       "<!-- 1&#45;&gt;3 -->\n",
       "<g id=\"edge1\" class=\"edge\">\n",
       "<title>1-&gt;3</title>\n",
       "<path fill=\"none\" stroke=\"black\" d=\"M54.13,-45C78.89,-45 116.3,-45 143.9,-45\"/>\n",
       "<polygon fill=\"black\" stroke=\"black\" points=\"143.96,-48.5 153.96,-45 143.96,-41.5 143.96,-48.5\"/>\n",
       "<text text-anchor=\"middle\" x=\"104\" y=\"-48.8\" font-family=\"Times,serif\" font-size=\"14.00\">A1, B2, C3</text>\n",
       "</g>\n",
       "<!-- 2 -->\n",
       "<g id=\"node2\" class=\"node\">\n",
       "<title>2</title>\n",
       "<ellipse fill=\"none\" stroke=\"black\" cx=\"2073.96\" cy=\"-46\" rx=\"27\" ry=\"18\"/>\n",
       "<text text-anchor=\"middle\" x=\"2073.96\" y=\"-42.3\" font-family=\"Times,serif\" font-size=\"14.00\">end</text>\n",
       "</g>\n",
       "<!-- 4 -->\n",
       "<g id=\"node4\" class=\"node\">\n",
       "<title>4</title>\n",
       "<ellipse fill=\"none\" stroke=\"black\" cx=\"311\" cy=\"-72\" rx=\"27\" ry=\"18\"/>\n",
       "<text text-anchor=\"middle\" x=\"311\" y=\"-68.3\" font-family=\"Times,serif\" font-size=\"14.00\">sun</text>\n",
       "</g>\n",
       "<!-- 3&#45;&gt;4 -->\n",
       "<g id=\"edge2\" class=\"edge\">\n",
       "<title>3-&gt;4</title>\n",
       "<path fill=\"none\" stroke=\"black\" d=\"M206.98,-50.27C226.37,-54.36 253.47,-60.08 275.01,-64.62\"/>\n",
       "<polygon fill=\"black\" stroke=\"black\" points=\"274.57,-68.1 285.08,-66.74 276.02,-61.25 274.57,-68.1\"/>\n",
       "<text text-anchor=\"middle\" x=\"246\" y=\"-65.8\" font-family=\"Times,serif\" font-size=\"14.00\">A1, B2</text>\n",
       "</g>\n",
       "<!-- 18 -->\n",
       "<g id=\"node18\" class=\"node\">\n",
       "<title>18</title>\n",
       "<ellipse fill=\"none\" stroke=\"black\" cx=\"311\" cy=\"-18\" rx=\"27\" ry=\"18\"/>\n",
       "<text text-anchor=\"middle\" x=\"311\" y=\"-14.3\" font-family=\"Times,serif\" font-size=\"14.00\">star</text>\n",
       "</g>\n",
       "<!-- 3&#45;&gt;18 -->\n",
       "<g id=\"edge3\" class=\"edge\">\n",
       "<title>3-&gt;18</title>\n",
       "<path fill=\"none\" stroke=\"black\" d=\"M206.64,-39.29C212.95,-37.86 219.72,-36.35 226,-35 242.07,-31.55 259.92,-27.91 275.02,-24.89\"/>\n",
       "<polygon fill=\"black\" stroke=\"black\" points=\"275.85,-28.29 284.97,-22.9 274.48,-21.42 275.85,-28.29\"/>\n",
       "<text text-anchor=\"middle\" x=\"246\" y=\"-38.8\" font-family=\"Times,serif\" font-size=\"14.00\">C3</text>\n",
       "</g>\n",
       "<!-- 5 -->\n",
       "<g id=\"node5\" class=\"node\">\n",
       "<title>5</title>\n",
       "<ellipse fill=\"none\" stroke=\"black\" cx=\"422.2\" cy=\"-40\" rx=\"31.4\" ry=\"18\"/>\n",
       "<text text-anchor=\"middle\" x=\"422.2\" y=\"-36.3\" font-family=\"Times,serif\" font-size=\"14.00\">shone</text>\n",
       "</g>\n",
       "<!-- 4&#45;&gt;5 -->\n",
       "<g id=\"edge4\" class=\"edge\">\n",
       "<title>4-&gt;5</title>\n",
       "<path fill=\"none\" stroke=\"black\" d=\"M335.96,-64.98C349.97,-60.87 367.96,-55.6 383.79,-50.96\"/>\n",
       "<polygon fill=\"black\" stroke=\"black\" points=\"385.21,-54.19 393.83,-48.02 383.25,-47.47 385.21,-54.19\"/>\n",
       "<text text-anchor=\"middle\" x=\"364.5\" y=\"-61.8\" font-family=\"Times,serif\" font-size=\"14.00\">A1</text>\n",
       "</g>\n",
       "<!-- 16 -->\n",
       "<g id=\"node16\" class=\"node\">\n",
       "<title>16</title>\n",
       "<ellipse fill=\"none\" stroke=\"black\" cx=\"422.2\" cy=\"-94\" rx=\"27\" ry=\"18\"/>\n",
       "<text text-anchor=\"middle\" x=\"422.2\" y=\"-90.3\" font-family=\"Times,serif\" font-size=\"14.00\">was</text>\n",
       "</g>\n",
       "<!-- 4&#45;&gt;16 -->\n",
       "<g id=\"edge5\" class=\"edge\">\n",
       "<title>4-&gt;16</title>\n",
       "<path fill=\"none\" stroke=\"black\" d=\"M337.05,-77.05C351.62,-79.98 370.2,-83.73 386.19,-86.95\"/>\n",
       "<polygon fill=\"black\" stroke=\"black\" points=\"385.77,-90.43 396.26,-88.98 387.15,-83.57 385.77,-90.43\"/>\n",
       "<text text-anchor=\"middle\" x=\"364.5\" y=\"-86.8\" font-family=\"Times,serif\" font-size=\"14.00\">B2</text>\n",
       "</g>\n",
       "<!-- 6 -->\n",
       "<g id=\"node6\" class=\"node\">\n",
       "<title>6</title>\n",
       "<ellipse fill=\"none\" stroke=\"black\" cx=\"657.19\" cy=\"-57\" rx=\"27\" ry=\"18\"/>\n",
       "<text text-anchor=\"middle\" x=\"657.19\" y=\"-53.3\" font-family=\"Times,serif\" font-size=\"14.00\">,</text>\n",
       "</g>\n",
       "<!-- 5&#45;&gt;6 -->\n",
       "<g id=\"edge6\" class=\"edge\">\n",
       "<title>5-&gt;6</title>\n",
       "<path fill=\"none\" stroke=\"black\" d=\"M453.2,-42.08C484.43,-44.25 534.74,-47.79 578.19,-51 591.87,-52.01 606.89,-53.16 620.08,-54.18\"/>\n",
       "<polygon fill=\"black\" stroke=\"black\" points=\"619.95,-57.68 630.19,-54.96 620.49,-50.7 619.95,-57.68\"/>\n",
       "<text text-anchor=\"middle\" x=\"541.79\" y=\"-54.8\" font-family=\"Times,serif\" font-size=\"14.00\">A1, C3</text>\n",
       "</g>\n",
       "<!-- 7 -->\n",
       "<g id=\"node7\" class=\"node\">\n",
       "<title>7</title>\n",
       "<ellipse fill=\"none\" stroke=\"black\" cx=\"818.63\" cy=\"-57\" rx=\"34.39\" ry=\"18\"/>\n",
       "<text text-anchor=\"middle\" x=\"818.63\" y=\"-53.3\" font-family=\"Times,serif\" font-size=\"14.00\">having</text>\n",
       "</g>\n",
       "<!-- 6&#45;&gt;7 -->\n",
       "<g id=\"edge7\" class=\"edge\">\n",
       "<title>6-&gt;7</title>\n",
       "<path fill=\"none\" stroke=\"black\" d=\"M684.52,-57C708.78,-57 745.26,-57 773.89,-57\"/>\n",
       "<polygon fill=\"black\" stroke=\"black\" points=\"774.05,-60.5 784.05,-57 774.05,-53.5 774.05,-60.5\"/>\n",
       "<text text-anchor=\"middle\" x=\"734.19\" y=\"-60.8\" font-family=\"Times,serif\" font-size=\"14.00\">A1, B2, C3</text>\n",
       "</g>\n",
       "<!-- 8 -->\n",
       "<g id=\"node8\" class=\"node\">\n",
       "<title>8</title>\n",
       "<ellipse fill=\"none\" stroke=\"black\" cx=\"980.08\" cy=\"-57\" rx=\"27\" ry=\"18\"/>\n",
       "<text text-anchor=\"middle\" x=\"980.08\" y=\"-53.3\" font-family=\"Times,serif\" font-size=\"14.00\">no</text>\n",
       "</g>\n",
       "<!-- 7&#45;&gt;8 -->\n",
       "<g id=\"edge8\" class=\"edge\">\n",
       "<title>7-&gt;8</title>\n",
       "<path fill=\"none\" stroke=\"black\" d=\"M853.45,-57C879.68,-57 915.96,-57 942.8,-57\"/>\n",
       "<polygon fill=\"black\" stroke=\"black\" points=\"942.94,-60.5 952.94,-57 942.94,-53.5 942.94,-60.5\"/>\n",
       "<text text-anchor=\"middle\" x=\"903.08\" y=\"-60.8\" font-family=\"Times,serif\" font-size=\"14.00\">A1, B2, C3</text>\n",
       "</g>\n",
       "<!-- 9 -->\n",
       "<g id=\"node9\" class=\"node\">\n",
       "<title>9</title>\n",
       "<ellipse fill=\"none\" stroke=\"black\" cx=\"1131.18\" cy=\"-84\" rx=\"48.19\" ry=\"18\"/>\n",
       "<text text-anchor=\"middle\" x=\"1131.18\" y=\"-80.3\" font-family=\"Times,serif\" font-size=\"14.00\">alternative</text>\n",
       "</g>\n",
       "<!-- 8&#45;&gt;9 -->\n",
       "<g id=\"edge9\" class=\"edge\">\n",
       "<title>8-&gt;9</title>\n",
       "<path fill=\"none\" stroke=\"black\" d=\"M1006.37,-61.58C1025.78,-65.1 1053.26,-70.07 1077.39,-74.44\"/>\n",
       "<polygon fill=\"black\" stroke=\"black\" points=\"1077.04,-77.93 1087.5,-76.27 1078.28,-71.05 1077.04,-77.93\"/>\n",
       "<text text-anchor=\"middle\" x=\"1045.08\" y=\"-75.8\" font-family=\"Times,serif\" font-size=\"14.00\">A1, B2</text>\n",
       "</g>\n",
       "<!-- 19 -->\n",
       "<g id=\"node19\" class=\"node\">\n",
       "<title>19</title>\n",
       "<ellipse fill=\"none\" stroke=\"black\" cx=\"1131.18\" cy=\"-30\" rx=\"28.7\" ry=\"18\"/>\n",
       "<text text-anchor=\"middle\" x=\"1131.18\" y=\"-26.3\" font-family=\"Times,serif\" font-size=\"14.00\">other</text>\n",
       "</g>\n",
       "<!-- 8&#45;&gt;19 -->\n",
       "<g id=\"edge10\" class=\"edge\">\n",
       "<title>8-&gt;19</title>\n",
       "<path fill=\"none\" stroke=\"black\" d=\"M1005.16,-49.85C1011.59,-48.1 1018.57,-46.35 1025.08,-45 1047.37,-40.39 1072.6,-36.74 1092.76,-34.19\"/>\n",
       "<polygon fill=\"black\" stroke=\"black\" points=\"1093.3,-37.65 1102.8,-32.96 1092.45,-30.7 1093.3,-37.65\"/>\n",
       "<text text-anchor=\"middle\" x=\"1045.08\" y=\"-48.8\" font-family=\"Times,serif\" font-size=\"14.00\">C3</text>\n",
       "</g>\n",
       "<!-- 10 -->\n",
       "<g id=\"node10\" class=\"node\">\n",
       "<title>10</title>\n",
       "<ellipse fill=\"none\" stroke=\"black\" cx=\"1288.42\" cy=\"-84\" rx=\"27\" ry=\"18\"/>\n",
       "<text text-anchor=\"middle\" x=\"1288.42\" y=\"-80.3\" font-family=\"Times,serif\" font-size=\"14.00\">,</text>\n",
       "</g>\n",
       "<!-- 9&#45;&gt;10 -->\n",
       "<g id=\"edge11\" class=\"edge\">\n",
       "<title>9-&gt;10</title>\n",
       "<path fill=\"none\" stroke=\"black\" d=\"M1179.6,-84C1202.48,-84 1229.52,-84 1250.79,-84\"/>\n",
       "<polygon fill=\"black\" stroke=\"black\" points=\"1251.03,-87.5 1261.03,-84 1251.03,-80.5 1251.03,-87.5\"/>\n",
       "<text text-anchor=\"middle\" x=\"1217.27\" y=\"-87.8\" font-family=\"Times,serif\" font-size=\"14.00\">A1, B2</text>\n",
       "</g>\n",
       "<!-- 11 -->\n",
       "<g id=\"node11\" class=\"node\">\n",
       "<title>11</title>\n",
       "<ellipse fill=\"none\" stroke=\"black\" cx=\"1424.57\" cy=\"-84\" rx=\"27\" ry=\"18\"/>\n",
       "<text text-anchor=\"middle\" x=\"1424.57\" y=\"-80.3\" font-family=\"Times,serif\" font-size=\"14.00\">on</text>\n",
       "</g>\n",
       "<!-- 10&#45;&gt;11 -->\n",
       "<g id=\"edge12\" class=\"edge\">\n",
       "<title>10-&gt;11</title>\n",
       "<path fill=\"none\" stroke=\"black\" d=\"M1315.6,-84C1336.01,-84 1364.58,-84 1387.2,-84\"/>\n",
       "<polygon fill=\"black\" stroke=\"black\" points=\"1387.45,-87.5 1397.45,-84 1387.45,-80.5 1387.45,-87.5\"/>\n",
       "<text text-anchor=\"middle\" x=\"1359.57\" y=\"-87.8\" font-family=\"Times,serif\" font-size=\"14.00\">A1, B2</text>\n",
       "</g>\n",
       "<!-- 12 -->\n",
       "<g id=\"node12\" class=\"node\">\n",
       "<title>12</title>\n",
       "<ellipse fill=\"none\" stroke=\"black\" cx=\"1531.57\" cy=\"-76\" rx=\"27\" ry=\"18\"/>\n",
       "<text text-anchor=\"middle\" x=\"1531.57\" y=\"-72.3\" font-family=\"Times,serif\" font-size=\"14.00\">the</text>\n",
       "</g>\n",
       "<!-- 11&#45;&gt;12 -->\n",
       "<g id=\"edge13\" class=\"edge\">\n",
       "<title>11-&gt;12</title>\n",
       "<path fill=\"none\" stroke=\"black\" d=\"M1451.52,-82.02C1464.4,-81.04 1480.16,-79.84 1494.21,-78.77\"/>\n",
       "<polygon fill=\"black\" stroke=\"black\" points=\"1494.84,-82.23 1504.55,-77.98 1494.31,-75.25 1494.84,-82.23\"/>\n",
       "<text text-anchor=\"middle\" x=\"1478.07\" y=\"-83.8\" font-family=\"Times,serif\" font-size=\"14.00\">A1</text>\n",
       "</g>\n",
       "<!-- 13 -->\n",
       "<g id=\"node13\" class=\"node\">\n",
       "<title>13</title>\n",
       "<ellipse fill=\"none\" stroke=\"black\" cx=\"1649.26\" cy=\"-76\" rx=\"37.89\" ry=\"18\"/>\n",
       "<text text-anchor=\"middle\" x=\"1649.26\" y=\"-72.3\" font-family=\"Times,serif\" font-size=\"14.00\">nothing</text>\n",
       "</g>\n",
       "<!-- 11&#45;&gt;13 -->\n",
       "<g id=\"edge14\" class=\"edge\">\n",
       "<title>11-&gt;13</title>\n",
       "<path fill=\"none\" stroke=\"black\" d=\"M1448.59,-92.89C1455.27,-95.18 1462.64,-97.44 1469.57,-99 1523.36,-111.1 1540.57,-110.21 1593.57,-95 1598.63,-93.55 1603.91,-91.89 1609.11,-90.18\"/>\n",
       "<polygon fill=\"black\" stroke=\"black\" points=\"1610.58,-93.38 1618.93,-86.85 1608.34,-86.75 1610.58,-93.38\"/>\n",
       "<text text-anchor=\"middle\" x=\"1531.57\" y=\"-110.8\" font-family=\"Times,serif\" font-size=\"14.00\">B2</text>\n",
       "</g>\n",
       "<!-- 12&#45;&gt;13 -->\n",
       "<g id=\"edge15\" class=\"edge\">\n",
       "<title>12-&gt;13</title>\n",
       "<path fill=\"none\" stroke=\"black\" d=\"M1558.82,-76C1571.27,-76 1586.53,-76 1600.9,-76\"/>\n",
       "<polygon fill=\"black\" stroke=\"black\" points=\"1601.15,-79.5 1611.15,-76 1601.15,-72.5 1601.15,-79.5\"/>\n",
       "<text text-anchor=\"middle\" x=\"1585.07\" y=\"-79.8\" font-family=\"Times,serif\" font-size=\"14.00\">A1</text>\n",
       "</g>\n",
       "<!-- 14 -->\n",
       "<g id=\"node14\" class=\"node\">\n",
       "<title>14</title>\n",
       "<ellipse fill=\"none\" stroke=\"black\" cx=\"1789.96\" cy=\"-76\" rx=\"27\" ry=\"18\"/>\n",
       "<text text-anchor=\"middle\" x=\"1789.96\" y=\"-72.3\" font-family=\"Times,serif\" font-size=\"14.00\">new</text>\n",
       "</g>\n",
       "<!-- 13&#45;&gt;14 -->\n",
       "<g id=\"edge16\" class=\"edge\">\n",
       "<title>13-&gt;14</title>\n",
       "<path fill=\"none\" stroke=\"black\" d=\"M1687.07,-76C1707.3,-76 1732.3,-76 1752.48,-76\"/>\n",
       "<polygon fill=\"black\" stroke=\"black\" points=\"1752.54,-79.5 1762.54,-76 1752.54,-72.5 1752.54,-79.5\"/>\n",
       "<text text-anchor=\"middle\" x=\"1724.96\" y=\"-79.8\" font-family=\"Times,serif\" font-size=\"14.00\">A1, B2</text>\n",
       "</g>\n",
       "<!-- 15 -->\n",
       "<g id=\"node15\" class=\"node\">\n",
       "<title>15</title>\n",
       "<ellipse fill=\"none\" stroke=\"black\" cx=\"1919.96\" cy=\"-46\" rx=\"27\" ry=\"18\"/>\n",
       "<text text-anchor=\"middle\" x=\"1919.96\" y=\"-42.3\" font-family=\"Times,serif\" font-size=\"14.00\">.</text>\n",
       "</g>\n",
       "<!-- 14&#45;&gt;15 -->\n",
       "<g id=\"edge17\" class=\"edge\">\n",
       "<title>14-&gt;15</title>\n",
       "<path fill=\"none\" stroke=\"black\" d=\"M1815.64,-70.22C1835.21,-65.63 1862.78,-59.17 1884.52,-54.07\"/>\n",
       "<polygon fill=\"black\" stroke=\"black\" points=\"1885.42,-57.46 1894.36,-51.77 1883.82,-50.64 1885.42,-57.46\"/>\n",
       "<text text-anchor=\"middle\" x=\"1854.96\" y=\"-68.8\" font-family=\"Times,serif\" font-size=\"14.00\">A1, B2</text>\n",
       "</g>\n",
       "<!-- 15&#45;&gt;2 -->\n",
       "<g id=\"edge18\" class=\"edge\">\n",
       "<title>15-&gt;2</title>\n",
       "<path fill=\"none\" stroke=\"black\" d=\"M1947.09,-46C1971.85,-46 2009.26,-46 2036.87,-46\"/>\n",
       "<polygon fill=\"black\" stroke=\"black\" points=\"2036.92,-49.5 2046.92,-46 2036.92,-42.5 2036.92,-49.5\"/>\n",
       "<text text-anchor=\"middle\" x=\"1996.96\" y=\"-49.8\" font-family=\"Times,serif\" font-size=\"14.00\">A1, B2, C3</text>\n",
       "</g>\n",
       "<!-- 17 -->\n",
       "<g id=\"node17\" class=\"node\">\n",
       "<title>17</title>\n",
       "<ellipse fill=\"none\" stroke=\"black\" cx=\"541.79\" cy=\"-93\" rx=\"36.29\" ry=\"18\"/>\n",
       "<text text-anchor=\"middle\" x=\"541.79\" y=\"-89.3\" font-family=\"Times,serif\" font-size=\"14.00\">shining</text>\n",
       "</g>\n",
       "<!-- 16&#45;&gt;17 -->\n",
       "<g id=\"edge19\" class=\"edge\">\n",
       "<title>16-&gt;17</title>\n",
       "<path fill=\"none\" stroke=\"black\" d=\"M449.3,-93.78C462.84,-93.66 479.78,-93.52 495.38,-93.39\"/>\n",
       "<polygon fill=\"black\" stroke=\"black\" points=\"495.43,-96.89 505.4,-93.3 495.37,-89.89 495.43,-96.89\"/>\n",
       "<text text-anchor=\"middle\" x=\"479.39\" y=\"-96.8\" font-family=\"Times,serif\" font-size=\"14.00\">B2</text>\n",
       "</g>\n",
       "<!-- 17&#45;&gt;6 -->\n",
       "<g id=\"edge20\" class=\"edge\">\n",
       "<title>17-&gt;6</title>\n",
       "<path fill=\"none\" stroke=\"black\" d=\"M572.88,-83.45C588.17,-78.59 606.79,-72.68 622.55,-67.68\"/>\n",
       "<polygon fill=\"black\" stroke=\"black\" points=\"623.95,-70.91 632.43,-64.54 621.84,-64.23 623.95,-70.91\"/>\n",
       "<text text-anchor=\"middle\" x=\"604.19\" y=\"-78.8\" font-family=\"Times,serif\" font-size=\"14.00\">B2</text>\n",
       "</g>\n",
       "<!-- 18&#45;&gt;5 -->\n",
       "<g id=\"edge21\" class=\"edge\">\n",
       "<title>18-&gt;5</title>\n",
       "<path fill=\"none\" stroke=\"black\" d=\"M338.08,-16.19C348.98,-16.01 361.72,-16.55 373,-19 378.46,-20.19 384.07,-22.01 389.44,-24.09\"/>\n",
       "<polygon fill=\"black\" stroke=\"black\" points=\"388.2,-27.36 398.77,-28.04 390.93,-20.92 388.2,-27.36\"/>\n",
       "<text text-anchor=\"middle\" x=\"364.5\" y=\"-22.8\" font-family=\"Times,serif\" font-size=\"14.00\">C3</text>\n",
       "</g>\n",
       "<!-- 20 -->\n",
       "<g id=\"node20\" class=\"node\">\n",
       "<title>20</title>\n",
       "<ellipse fill=\"none\" stroke=\"black\" cx=\"1288.42\" cy=\"-30\" rx=\"33.29\" ry=\"18\"/>\n",
       "<text text-anchor=\"middle\" x=\"1288.42\" y=\"-26.3\" font-family=\"Times,serif\" font-size=\"14.00\">option</text>\n",
       "</g>\n",
       "<!-- 19&#45;&gt;20 -->\n",
       "<g id=\"edge22\" class=\"edge\">\n",
       "<title>19-&gt;20</title>\n",
       "<path fill=\"none\" stroke=\"black\" d=\"M1159.93,-30C1183.49,-30 1217.68,-30 1244.72,-30\"/>\n",
       "<polygon fill=\"black\" stroke=\"black\" points=\"1245.07,-33.5 1255.07,-30 1245.07,-26.5 1245.07,-33.5\"/>\n",
       "<text text-anchor=\"middle\" x=\"1217.27\" y=\"-33.8\" font-family=\"Times,serif\" font-size=\"14.00\">C3</text>\n",
       "</g>\n",
       "<!-- 20&#45;&gt;15 -->\n",
       "<g id=\"edge23\" class=\"edge\">\n",
       "<title>20-&gt;15</title>\n",
       "<path fill=\"none\" stroke=\"black\" d=\"M1321.68,-30C1348.85,-30 1388.75,-30 1423.57,-30 1423.57,-30 1423.57,-30 1790.96,-30 1822.45,-30 1857.97,-34.83 1883.59,-39.18\"/>\n",
       "<polygon fill=\"black\" stroke=\"black\" points=\"1883.12,-42.65 1893.58,-40.94 1884.34,-35.76 1883.12,-42.65\"/>\n",
       "<text text-anchor=\"middle\" x=\"1585.07\" y=\"-33.8\" font-family=\"Times,serif\" font-size=\"14.00\">C3</text>\n",
       "</g>\n",
       "</g>\n",
       "</svg>"
      ],
      "text/plain": [
       "<IPython.core.display.SVG object>"
      ]
     },
     "metadata": {},
     "output_type": "display_data"
    }
   ],
   "source": [
    "result5 = collate(LRBS2021_collation, output='svg_simple', segmentation=False)"
   ]
  },
  {
   "cell_type": "markdown",
   "metadata": {},
   "source": [
    "Remember: you read a variant graph from left to right, starting at the first node (\"start\"). The sigla of the witnesses are displayed on the edges. This visualisation clearly shows which tokens are considered a match: these are merged into the same node. The tokens that are not considered a match get their own node."
   ]
  },
  {
   "cell_type": "markdown",
   "metadata": {},
   "source": [
    "## Exercise\n",
    "\n",
    "Now it's up to you! Play around with CollateX in this notebook. Follow the steps below:\n",
    "\n",
    "### 1.  \n",
    "Create a new Markdown cell. You can add a new cell by clicking on the `+` in the menu bar, or via `Insert >> Insert Cell Below`. The type of the cell is automatically set to Code; if you'd like to change that to Markdown, you can click on the drop down menu in the menu bar.\n",
    "\n",
    "### 2. \n",
    "Write something in your new Markdown cell. For instance, \"This is my first collation exercise.\" Press `Shift + enter` to run your cell, or click on `Run` in the menu bar.\n",
    "\n",
    "### 3. \n",
    "Now add a new Code cell below your Markdown cell. Copy the code below in your Code cell:  \n",
    "```\n",
    "my_collation_object = Collation()  \n",
    "my_collation_object.add_plain_witness('W1', 'I like cats and dogs.')  \n",
    "my_collation_object.add_plain_witness('W2', 'I love cats and dogs as well.')  \n",
    "my_collation_object.add_plain_witness('W3', 'Do you like cats and dogs?')  \n",
    "my_result = collate(my_collation_object, output='html', segmentation=False)  \n",
    "```\n",
    "\n",
    "You can change the parameters of the `collate()` command as you please. For instance, try different outputs (standard alignment table, html alignment table, svg_simple) or switch layouts (by adding `layout='vertical'` as a parameter). Try the difference between `segmentation=False` and `segmentation=True`. And of course, you can also change the sigla, the text of the witnesses, and the names of the variables. Do make sure you use only UTF-8 characters, though."
   ]
  },
  {
   "cell_type": "markdown",
   "metadata": {},
   "source": [
    "Congratulations! You've now succesfully worked with CollateX. Check out the other notebooks if you'd like to learn more. And if you have any questions, do ask them in the live session or later via [email](elli.bleeker@huygens.knaw.nl)."
   ]
  }
 ],
 "metadata": {
  "kernelspec": {
   "display_name": "Python 3",
   "language": "python",
   "name": "python3"
  },
  "language_info": {
   "codemirror_mode": {
    "name": "ipython",
    "version": 3
   },
   "file_extension": ".py",
   "mimetype": "text/x-python",
   "name": "python",
   "nbconvert_exporter": "python",
   "pygments_lexer": "ipython3",
   "version": "3.8.2"
  }
 },
 "nbformat": 4,
 "nbformat_minor": 4
}
