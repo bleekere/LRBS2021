{
 "cells": [
  {
   "cell_type": "markdown",
   "metadata": {},
   "source": [
    "# Introduction\n",
    "\n",
    "In this Jupyter notebook, you'll learn how to work with the automated text collation tool CollateX. Before you start, make sure you've seen at least the third video lecture on the Gothenburg model. Also, make sure you understand the principles of the Jupyter notebook. This is explained in more detail in the lecture notes of [session 5.2.](https://port.sas.ac.uk/course/view.php?id=190&section=6) of the LRBS course, and – if you would like to learn even more – you can read about it [here](https://jupyter.org/) and [here](https://nbviewer.jupyter.org/github/DiXiT-eu/collatex-tutorial/blob/master/unit1/Jupyter_notebook.ipynb).\n",
    "\n",
    "Please note: run the code cells in this notebook in the right order. For example, you first need to tell Python that you need the Python library that holds the code for CollateX, by running the code cell `from collatex import*`, before you can start running the other cells. You can recognize a code cell by the `In [x]` on the left side of the cell.\n",
    "\n",
    "How to run a cell? It's simple: either click on the cell (so that your cursor is in the cell). Hold shift and press enter, or click on `Run` in the menu bar."
   ]
  },
  {
   "cell_type": "markdown",
   "metadata": {},
   "source": [
    "### Before you proceed\n",
    "\n",
    "You'd want to start afresh, so make sure that the cells in this notebook do not already have any output. You can do so by selecting `Kernel >> Restart & Clear Output`  in the menu bar above. You'll be asked whether you're sure; after confirming this your notebook will restart."
   ]
  },
  {
   "cell_type": "markdown",
   "metadata": {},
   "source": [
    "## Set-up"
   ]
  },
  {
   "cell_type": "markdown",
   "metadata": {},
   "source": [
    "First, let's set up our working environment. Normally, when not working in a binder environment, you'd check whether you have the latest version of CollateX installed:"
   ]
  },
  {
   "cell_type": "code",
   "execution_count": null,
   "metadata": {},
   "outputs": [],
   "source": [
    "!pip install --upgrade collatex"
   ]
  },
  {
   "cell_type": "markdown",
   "metadata": {},
   "source": [
    "Although this is not necessary in the present case, because the binder environment includes CollateX, it's good to make this part of your practice. You do not need to run `pip install --upgrade collatex` everytime, but make sure you do it regularly."
   ]
  },
  {
   "cell_type": "markdown",
   "metadata": {},
   "source": [
    "Secondly, you import the Python library that contains the code of CollateX by running:"
   ]
  },
  {
   "cell_type": "code",
   "execution_count": null,
   "metadata": {},
   "outputs": [],
   "source": [
    "from collatex import*"
   ]
  },
  {
   "cell_type": "markdown",
   "metadata": {},
   "source": [
    "You will *not* get any confirmation of the import being succesfull; you only know when it hasn't worked because you'll get an error message. "
   ]
  },
  {
   "cell_type": "markdown",
   "metadata": {},
   "source": [
    "## Step 1: Create a collation object.\n",
    "\n",
    "Your first step is to create a collation object with this line of code: `c-object = Collation()`. Saying `Collation()` tells CollateX to create a new, empty Collation \"instance\". Collation is a sort of special data type, that was created especially for CollateX. The `c_object` is a variable name, this could be anything you like."
   ]
  },
  {
   "cell_type": "code",
   "execution_count": null,
   "metadata": {},
   "outputs": [],
   "source": [
    "c_object = Collation()"
   ]
  },
  {
   "cell_type": "markdown",
   "metadata": {},
   "source": [
    "After running the cell, your empty collation is ready for you to add witnesses.\n",
    "\n",
    "## Step 3: Add witnesses to your collation object.\n",
    "\n",
    "Each witness gets:\n",
    "\n",
    "- a unique name (the *sigil*) to identify it. The sigil can be a single letter or a longer name.\n",
    "- the witness' text that will be collated.\n",
    "\n",
    "You add witnesses to your collation object with the function `add_plain_witness()`.\n"
   ]
  },
  {
   "cell_type": "code",
   "execution_count": null,
   "metadata": {},
   "outputs": [],
   "source": [
    "c_object.add_plain_witness('W1', 'The sun shone, having no alternative.')\n",
    "c_object.add_plain_witness('W2', 'The sun was shining, having no alternative.')\n",
    "c_object.add_plain_witness('W3', 'The star shone, having no other option.')"
   ]
  },
  {
   "cell_type": "markdown",
   "metadata": {},
   "source": [
    "## Step 4: Collate.\n",
    "\n",
    "Now it's time to collate all the witnesses you've just added. You do so with the function `collate()`.\n",
    "\n",
    "We save the result of the collation into a variable, here conveniently called `c_result`."
   ]
  },
  {
   "cell_type": "code",
   "execution_count": null,
   "metadata": {},
   "outputs": [],
   "source": [
    "c_result = collate(c_object)"
   ]
  },
  {
   "cell_type": "markdown",
   "metadata": {},
   "source": [
    "What, nothing happened? This may seem so, but remember: you didn't actually ask to *see* the result. Do so now:"
   ]
  },
  {
   "cell_type": "code",
   "execution_count": null,
   "metadata": {},
   "outputs": [],
   "source": [
    "print(c_result)"
   ]
  },
  {
   "cell_type": "markdown",
   "metadata": {},
   "source": [
    "The result is printed in CollateX' most basic visualisation of the alignment table. The first column of the table contains the sigla of the witnesses. The tokens that are aligned are placed in the same column. Note that aligned does *not* necessarily mean the tokens are also considered a match! This basic visualisation only shows the alingment of the tokens, not whether or not they match. \n",
    "\n",
    "CollateX does provide more visualisation options that provide more information. For example, you can display each token in an individual cell of the alignment table by switching off the segmentation of the tokens:"
   ]
  },
  {
   "cell_type": "code",
   "execution_count": null,
   "metadata": {},
   "outputs": [],
   "source": [
    "c_result2 = collate(c_object, segmentation=False)\n",
    "print(c_result2)"
   ]
  },
  {
   "cell_type": "markdown",
   "metadata": {},
   "source": [
    "You can also go with HTML representations of the alignment table. \n",
    "\n",
    "There are two options; do play around with them."
   ]
  },
  {
   "cell_type": "code",
   "execution_count": null,
   "metadata": {},
   "outputs": [],
   "source": [
    "c_result3 = collate(c_object, segmentation=False, output='html')"
   ]
  },
  {
   "cell_type": "code",
   "execution_count": null,
   "metadata": {},
   "outputs": [],
   "source": [
    "c_result4 = collate(c_object, segmentation=False, output='html2')"
   ]
  },
  {
   "cell_type": "markdown",
   "metadata": {},
   "source": [
    "Adding the parameter `output='html2'` visualises the matching and non-matching tokens in blue and red respectively."
   ]
  },
  {
   "cell_type": "markdown",
   "metadata": {},
   "source": [
    "And finally, the output of the collation can be respresented as a variant graph visualisation:"
   ]
  },
  {
   "cell_type": "code",
   "execution_count": null,
   "metadata": {},
   "outputs": [],
   "source": [
    "result5 = collate(c_object, output='svg_simple')"
   ]
  },
  {
   "cell_type": "markdown",
   "metadata": {},
   "source": [
    "Remember: you read a variant graph from left to right, starting at the first node (\"start\"). The sigla of the witnesses are displayed on the edges. This visualisation clearly shows which tokens are considered a match: these are merged into the same node. The tokens that are not considered a match get their own node."
   ]
  },
  {
   "cell_type": "markdown",
   "metadata": {},
   "source": [
    "## Exercise\n",
    "\n",
    "Now it's up to you! Play around with CollateX in this notebook. Follow the steps below:\n",
    "\n",
    "### 1.  \n",
    "Create a new Markdown cell. You can add a new cell by clicking on the `+` in the menu bar, or via `Insert >> Insert Cell Below`. The type of the cell is automatically set to Code; if you'd like to change that to Markdown, you can click on the drop down menu in the menu bar.\n",
    "\n",
    "### 2. \n",
    "Write something in your new Markdown cell. For instance, \"This is my first collation exercise.\" Press `Shift + enter` to run your cell, or click on `Run` in the menu bar.\n",
    "\n",
    "### 3. \n",
    "Now add a new Code cell below your Markdown cell. Copy the code below in your Code cell:  \n",
    "```\n",
    "my_collation_object = Collation()  \n",
    "my_collation_object.add_plain_witness('W1', 'I like cats and dogs.')  \n",
    "my_collation_object.add_plain_witness('W2', 'I love cats and dogs as well.')  \n",
    "my_collation_object.add_plain_witness('W3', 'Do you like cats and dogs?')  \n",
    "my_result = collate(my_collation_object, output='html', segmentation=False)  \n",
    "```\n",
    "\n",
    "You can change the parameters of the `collate()` command as you please. For instance, try different outputs (standard alignment table, html alignment table, svg_simple) or switch layouts (by adding `layout='vertical'` as a parameter). Try the difference between `segmentation=False` and `segmentation=True`. And of course, you can also change the sigla, the text of the witnesses, and the names of the variables. Do make sure you use only UTF-8 characters, though."
   ]
  },
  {
   "cell_type": "markdown",
   "metadata": {},
   "source": [
    "Congratulations! You've now succesfully worked with CollateX. Check out the other notebooks if you'd like to learn more. And if you have any questions, do ask them in the live session or later via [email](elli.bleeker@huygens.knaw.nl)."
   ]
  }
 ],
 "metadata": {
  "kernelspec": {
   "display_name": "Python 3",
   "language": "python",
   "name": "python3"
  },
  "language_info": {
   "codemirror_mode": {
    "name": "ipython",
    "version": 3
   },
   "file_extension": ".py",
   "mimetype": "text/x-python",
   "name": "python",
   "nbconvert_exporter": "python",
   "pygments_lexer": "ipython3",
   "version": "3.8.2"
  }
 },
 "nbformat": 4,
 "nbformat_minor": 4
}
