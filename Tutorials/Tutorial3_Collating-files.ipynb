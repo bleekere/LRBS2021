{
 "cells": [
  {
   "cell_type": "markdown",
   "metadata": {},
   "source": [
    "# Working with (larger) files\n",
    "\n",
    "In this tutorial you'll learn how to import files that are located elsewhere and collate them with CollateX. We will use a dataset placed in this binder, so you do not have to download anything. The witnesses are three editions from _To the Lighthouse_, a novel by Virginia Woolf first published in England in 1927. \n",
    "\n",
    "The witnesses in this dataset are larger, which gives you the chance to experiment with different visualisations. You may notice that some visualisations work better than others. The final part of the tutorial you'll learn how to save the HTML output visualisation that was created in the Jupyter notebook."
   ]
  },
  {
   "cell_type": "markdown",
   "metadata": {},
   "source": [
    "## Before you begin\n",
    "\n",
    "Make sure that the code cells in this Jupyter notebook have no output yet. If they do, clear the output:  \n",
    "\n",
    "Go to `Kernel` >> `Restart & Clear Output`. The notebook will ask if you're sure and, after confirming that indeed you are sure you want to restart and clear all output, it will restart. This may take a little while."
   ]
  },
  {
   "cell_type": "markdown",
   "metadata": {},
   "source": [
    "## 1. Reading from files\n",
    "\n",
    "As per usual, we start by checking whether we have the latest copy of CollateX:"
   ]
  },
  {
   "cell_type": "code",
   "execution_count": 1,
   "metadata": {},
   "outputs": [
    {
     "name": "stdout",
     "output_type": "stream",
     "text": [
      "Defaulting to user installation because normal site-packages is not writeable\n",
      "Requirement already satisfied: collatex in /Users/ellibleeker/Library/Python/3.8/lib/python/site-packages (2.2)\n",
      "Requirement already satisfied: networkx in /Users/ellibleeker/Library/Python/3.8/lib/python/site-packages (from collatex) (2.5.1)\n",
      "Requirement already satisfied: prettytable in /Users/ellibleeker/Library/Python/3.8/lib/python/site-packages (from collatex) (2.1.0)\n",
      "Requirement already satisfied: decorator<5,>=4.3 in /Users/ellibleeker/Library/Python/3.8/lib/python/site-packages (from networkx->collatex) (4.4.2)\n",
      "Requirement already satisfied: wcwidth in /Users/ellibleeker/Library/Python/3.8/lib/python/site-packages (from prettytable->collatex) (0.2.5)\n",
      "\u001b[33mWARNING: You are using pip version 20.3.3; however, version 21.1.3 is available.\n",
      "You should consider upgrading via the '/Library/Developer/CommandLineTools/usr/bin/python3 -m pip install --upgrade pip' command.\u001b[0m\n"
     ]
    }
   ],
   "source": [
    "!pip install --upgrade collatex"
   ]
  },
  {
   "cell_type": "markdown",
   "metadata": {},
   "source": [
    "Secondly, we will create three variables that will serve as containers for the three witnesses of _To the Lighthouse_. We will give the three witnesses a sigil that corresponds to the edition they are taken from:  \n",
    "1. TtL_UK = _To the Lighthouse_, the first UK edition (1927);\n",
    "2. TtL_US = _To the Lighthouse_, the first US edition (1927);\n",
    "3. TtL_EM = _To the Lighthouse_, the Everyman edition (1938).\n",
    "\n",
    "Using a line of Python code, we will instruct the computer where to find and to store it in the variable:"
   ]
  },
  {
   "cell_type": "code",
   "execution_count": null,
   "metadata": {},
   "outputs": [],
   "source": [
    "TtL_UK = open(\"data/Woolf/Lighthouse-1/Lighthouse-1-UK.txt\", encoding='utf-8').read()\n",
    "TtL_US = open(\"data/Woolf/Lighthouse-1/Lighthouse-1-USA.txt\", encoding='utf-8').read()\n",
    "TtL_EM = open(\"data/Woolf/Lighthouse-1/Lighthouse-1-EM.text\",encoding='utf-8').read()"
   ]
  }
 ],
 "metadata": {
  "kernelspec": {
   "display_name": "Python 3",
   "language": "python",
   "name": "python3"
  },
  "language_info": {
   "codemirror_mode": {
    "name": "ipython",
    "version": 3
   },
   "file_extension": ".py",
   "mimetype": "text/x-python",
   "name": "python",
   "nbconvert_exporter": "python",
   "pygments_lexer": "ipython3",
   "version": "3.8.2"
  }
 },
 "nbformat": 4,
 "nbformat_minor": 4
}
